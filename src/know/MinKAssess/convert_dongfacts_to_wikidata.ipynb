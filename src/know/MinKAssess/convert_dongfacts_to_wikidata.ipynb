{
 "cells": [
  {
   "cell_type": "code",
   "execution_count": null,
   "metadata": {},
   "outputs": [],
   "source": [
    "%cd /workspace/src\n",
    "\n",
    "import sys\n",
    "sys.path = sys.path[2:]\n",
    "\n",
    "import os.path as osp\n",
    "\n",
    "import pandas as pd\n",
    "\n",
    "from utils.general import load_json\n",
    "\n",
    "excel_path = osp.join(\"/workspace/src/know/MinKAssess\", 'probing_data_gpt2-xl_corrected.xlsx')\n",
    "avg_rating_path = osp.join(\"/workspace/src/know/MinKAssess\", 'avg_raterdict_202408.json')\n",
    "\n",
    "avg_rating = load_json(avg_rating_path)\n",
    "excel = pd.read_excel(excel_path)"
   ]
  },
  {
   "cell_type": "code",
   "execution_count": null,
   "metadata": {},
   "outputs": [],
   "source": [
    "excel.columns"
   ]
  },
  {
   "cell_type": "code",
   "execution_count": null,
   "metadata": {},
   "outputs": [],
   "source": [
    "import numpy as np\n",
    "\n",
    "\n",
    "data = excel[excel['Probing Element'] != 'relation'].groupby(['Fact_id', 'Probing Element'])[['Rel_id', 'Gold Answer', 'Probing Sentence', 'Disambiguation']].first().reset_index()\n",
    "# data['Fact_id'] = data['Fact_id'].astype(str)\n",
    "# data = data[np.isin(data['Fact_id'], np.array(list(avg_rating.keys())))]"
   ]
  },
  {
   "cell_type": "code",
   "execution_count": null,
   "metadata": {},
   "outputs": [],
   "source": [
    "len(avg_rating)"
   ]
  },
  {
   "cell_type": "code",
   "execution_count": null,
   "metadata": {},
   "outputs": [],
   "source": [
    "len(data)"
   ]
  },
  {
   "cell_type": "code",
   "execution_count": null,
   "metadata": {},
   "outputs": [],
   "source": [
    "data.head(20)"
   ]
  },
  {
   "cell_type": "code",
   "execution_count": null,
   "metadata": {},
   "outputs": [],
   "source": [
    "data.columns"
   ]
  },
  {
   "cell_type": "code",
   "execution_count": null,
   "metadata": {},
   "outputs": [],
   "source": [
    "import itertools\n",
    "from kb.core import Relation, TripleQuery, Entity\n",
    "from kb.wikidata import TempWikidata, WikidataPrepStage\n",
    "\n",
    "class Skip(Exception):\n",
    "    pass\n",
    "wd = TempWikidata('20210104', WikidataPrepStage.ALMOST_RAW)\n",
    "errors = []\n",
    "triple2factid = {}\n",
    "for i, (fact_id, group) in enumerate(data.groupby('Fact_id')):\n",
    "    try:\n",
    "        print('Position', i)\n",
    "        potential_objects, potential_subjects, relation = None, None, None\n",
    "        for i, (_, probing_element, rel_id, gold_answer, prompt, disambg) in group.iterrows():\n",
    "            gold_answer = str(gold_answer)\n",
    "            gold_answer = gold_answer.replace(\" ' \", \"'\").replace('茅', 'é').replace(\" , \", \", \").replace(' - ', '-').lstrip()\n",
    "            # Correct typos\n",
    "            if gold_answer == 'Académie Goncourt':\n",
    "                raise Skip\n",
    "            if gold_answer == 'United States':\n",
    "                gold_answer = \"United States of America\"\n",
    "            if gold_answer == 'The CW':\n",
    "                gold_answer = 'CW'\n",
    "            if gold_answer == 'Shakespeare':\n",
    "                raise Skip\n",
    "            if gold_answer == 'Ernst Herzfeld':\n",
    "                raise Skip\n",
    "            if gold_answer == 'Subliminal':\n",
    "                raise Skip\n",
    "            if gold_answer in ('Université Laval', 'Odell', 'Israeli Arab', 'Edward', \n",
    "                               'Provo, Utah', 'EA Sports', 'Lucien', 'Washington', 'first-class', \n",
    "                               'arrondissement', 'caliph'):\n",
    "                raise Skip\n",
    "            if gold_answer == 'Putin':\n",
    "                gold_answer = \"Vladimir Putin\"\n",
    "            if gold_answer == \"Mo'ed\":\n",
    "                gold_answer = \"Seder Moed\"\n",
    "            if gold_answer == 'Zaire':\n",
    "                gold_answer = \"DR Congo national football team\"\n",
    "            if gold_answer == 'Lieutenant-Governor':\n",
    "                gold_answer = \"Governor of Van Diemen's Land\"\n",
    "            if gold_answer == 'American':\n",
    "                gold_answer = \"United States of America\"\n",
    "            if gold_answer == 'Major League Baseball ( MLB )':\n",
    "                gold_answer = 'Major League Baseball'\n",
    "            if gold_answer == 'Crown Vic':\n",
    "                gold_answer = \"Ford Crown Victoria\"\n",
    "            if gold_answer == 'Ford':\n",
    "                gold_answer = \"Ford Motor Company\"\n",
    "            if gold_answer == 'Ahmad Chalabi':\n",
    "                gold_answer = \"Ahmed Chalabi\"\n",
    "            \n",
    "            print(gold_answer, relation, type(gold_answer))\n",
    "\n",
    "            if relation is None:\n",
    "                relation = Relation(rel_id)\n",
    "            if probing_element == 'object':\n",
    "                object_gold_answer = gold_answer\n",
    "                add = []\n",
    "                if gold_answer == 'Switzerland':\n",
    "                    add.append('Swiss national football team')\n",
    "                potential_objects = list(itertools.chain(*wd.find_from_label([gold_answer] + add).values()))\n",
    "                \n",
    "                # Manual Entity Disambiguation\n",
    "                if gold_answer == 'Chicago Black Hawks':\n",
    "                    potential_objects = [Entity('Q209636')]\n",
    "                elif gold_answer == \"CW\":\n",
    "                    potential_objects = [Entity('Q212252')]\n",
    "                elif gold_answer == 'papacy':\n",
    "                    potential_objects = [Entity('Q9592')]\n",
    "                elif gold_answer == 'Prague':\n",
    "                    potential_objects = [Entity(\"Q1085\")]\n",
    "                elif gold_answer == 'Norway':\n",
    "                    potential_objects = [Entity('Q20')]\n",
    "            elif probing_element == 'subject':\n",
    "                subject_gold_answer = gold_answer\n",
    "                add = []\n",
    "                if gold_answer == 'Switzerland':\n",
    "                    add.append('Swiss national football team')\n",
    "                potential_subjects = list(itertools.chain(*wd.find_from_label([gold_answer] + add).values()))\n",
    "\n",
    "                # Manual Entity Disambiguation\n",
    "                if gold_answer == 'Scottish referendum':\n",
    "                    raise Skip\n",
    "                elif gold_answer == 'Fire Emblem':\n",
    "                    potential_subjects = [Entity(\"Q1768977\")]\n",
    "                elif gold_answer == 'Pope Francis':\n",
    "                    potential_subjects = [Entity(\"Q450675\")]\n",
    "                elif gold_answer == \"John Dryden\":\n",
    "                    potential_subjects = [Entity('Q213355')]\n",
    "                elif gold_answer == 'Gmail':\n",
    "                    potential_subjects = [Entity('Q9334')]\n",
    "                elif gold_answer == 'Greg Boyer':\n",
    "                    potential_subjects = [Entity('Q2329528')]\n",
    "                elif gold_answer == 'Henrique':\n",
    "                    potential_subjects = [Entity('Q1606369')]\n",
    "                elif gold_answer == 'Korn':\n",
    "                    potential_subjects = [Entity('Q80304')]\n",
    "                elif gold_answer == 'Paul Wild':\n",
    "                    potential_subjects = [Entity('Q123536')]\n",
    "                elif gold_answer == 'Ruby programming language':\n",
    "                    potential_subjects = [Entity('Q161053')]\n",
    "                \n",
    "                    \n",
    "        \n",
    "        assert potential_objects is not None and potential_subjects is not None\n",
    "        print(prompt)\n",
    "        print(potential_subjects, potential_objects, relation)\n",
    "        print([x.id for x in potential_subjects], [x.id for x in potential_objects])\n",
    "\n",
    "        if Entity(\"Q7554518\") in potential_subjects and Entity('Q28575') in potential_objects:\n",
    "            potential_objects = [Entity(\"Q192299\")]\n",
    "\n",
    "\n",
    "        triples = list(wd.find(TripleQuery(subject=potential_subjects, relation=relation, object=potential_objects)))\n",
    "        seen = set()\n",
    "        uniqueidlist = []\n",
    "        for obj in triples:\n",
    "            obj2 = obj.to_sro()\n",
    "            if obj2 not in seen:\n",
    "                seen.add(obj2)\n",
    "                uniqueidlist.append(obj)\n",
    "        triples = uniqueidlist\n",
    "        print([(tr.subject.id, tr.relation.id, tr.object.id) for tr in triples])\n",
    "        if len(triples) > 1:\n",
    "            print('Disambiguation', disambg)\n",
    "            triples = [tr for tr in triples if tr.subject.id in (disambg, 'Q22') or tr.object.id in (disambg, 'Q22')]\n",
    "        assert len(triples) == 1\n",
    "\n",
    "        triple2factid[triples[0]] = fact_id\n",
    "    except Skip:\n",
    "        print('SKIPPING : ', prompt)\n",
    "    except AssertionError:\n",
    "        errors.append((subject_gold_answer, relation, object_gold_answer))"
   ]
  },
  {
   "cell_type": "code",
   "execution_count": null,
   "metadata": {},
   "outputs": [],
   "source": [
    "triple2humanscore = [\n",
    "    (tuple(x.id for x in k.to_sro()), avg_rating[str(v)]) for k,v in triple2factid.items()\n",
    "]"
   ]
  },
  {
   "cell_type": "code",
   "execution_count": null,
   "metadata": {},
   "outputs": [],
   "source": [
    "triple2humanscore"
   ]
  },
  {
   "cell_type": "code",
   "execution_count": null,
   "metadata": {},
   "outputs": [],
   "source": [
    "from utils.general import dump_json\n",
    "import random\n",
    "random.seed(42)\n",
    "random.shuffle(triple2humanscore)\n",
    "\n",
    "dump_json(osp.join('know/MinKAssess', 'wikidata_triples_to_human_scores.json'), triple2humanscore)"
   ]
  }
 ],
 "metadata": {
  "kernelspec": {
   "display_name": "wfd_build",
   "language": "python",
   "name": "python3"
  },
  "language_info": {
   "codemirror_mode": {
    "name": "ipython",
    "version": 3
   },
   "file_extension": ".py",
   "mimetype": "text/x-python",
   "name": "python",
   "nbconvert_exporter": "python",
   "pygments_lexer": "ipython3",
   "version": "3.10.14"
  }
 },
 "nbformat": 4,
 "nbformat_minor": 2
}
